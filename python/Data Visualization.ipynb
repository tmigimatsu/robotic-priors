{
 "cells": [
  {
   "cell_type": "code",
   "execution_count": 36,
   "metadata": {
    "collapsed": false,
    "deletable": true,
    "editable": true
   },
   "outputs": [],
   "source": [
    "import h5py\n",
    "import numpy as np\n",
    "import matplotlib.pyplot as plt\n",
    "import os\n",
    "import glob\n",
    "from data import *"
   ]
  },
  {
   "cell_type": "code",
   "execution_count": 37,
   "metadata": {
    "collapsed": false,
    "deletable": true,
    "editable": true
   },
   "outputs": [
    {
     "name": "stdout",
     "output_type": "stream",
     "text": [
      "['results/data-03-02_18-08.hdf5', 'results/data-03-02_18-09.hdf5', 'results/data-03-02_18-13.hdf5', 'results/data-03-02_18-14.hdf5', 'results/data-03-02_18-15.hdf5', 'results/data-03-02_18-16.hdf5', 'results/data-03-02_18-17.hdf5', 'results/data-03-02_18-18.hdf5', 'results/data-03-02_18-19.hdf5', 'results/data-03-02_18-20.hdf5', 'results/data-03-02_18-21.hdf5', 'results/data-03-02_18-22.hdf5', 'results/data-03-02_18-23.hdf5', 'results/data-03-02_18-24.hdf5', 'results/data-03-02_18-25.hdf5', 'results/data-03-02_18-26.hdf5', 'results/data-03-02_18-27.hdf5']\n",
      "17\n"
     ]
    }
   ],
   "source": [
    "filepath = os.path.join(\"results\")\n",
    "\n",
    "# Find files sorted by time\n",
    "files = sorted(glob.glob(os.path.join(filepath, \"*.hdf5\")), key=lambda f: os.stat(f).st_mtime)\n",
    "print(files)\n",
    "\n",
    "# Choose and open one file\n",
    "filename = files[0]\n",
    "try:\n",
    "    f.close()\n",
    "except:\n",
    "    pass\n",
    "f = h5py.File(filename, \"r\")\n",
    "\n",
    "print(len(files))"
   ]
  },
  {
   "cell_type": "code",
   "execution_count": 38,
   "metadata": {
    "collapsed": false,
    "deletable": true,
    "editable": true
   },
   "outputs": [
    {
     "ename": "KeyError",
     "evalue": "\"Unable to open object (object 'mean_observation' doesn't exist)\"",
     "output_type": "error",
     "traceback": [
      "\u001b[0;31m---------------------------------------------------------------------------\u001b[0m",
      "\u001b[0;31mKeyError\u001b[0m                                  Traceback (most recent call last)",
      "\u001b[0;32m<ipython-input-38-d0d0e8fe33e9>\u001b[0m in \u001b[0;36m<module>\u001b[0;34m()\u001b[0m\n\u001b[1;32m      1\u001b[0m \u001b[0;31m# Plot mean observation\u001b[0m\u001b[0;34m\u001b[0m\u001b[0;34m\u001b[0m\u001b[0m\n\u001b[0;32m----> 2\u001b[0;31m \u001b[0mmean_observation\u001b[0m \u001b[0;34m=\u001b[0m \u001b[0mf\u001b[0m\u001b[0;34m[\u001b[0m\u001b[0;34m\"mean_observation\"\u001b[0m\u001b[0;34m]\u001b[0m\u001b[0;34m[\u001b[0m\u001b[0;34m(\u001b[0m\u001b[0;34m)\u001b[0m\u001b[0;34m]\u001b[0m\u001b[0;34m\u001b[0m\u001b[0m\n\u001b[0m\u001b[1;32m      3\u001b[0m \u001b[0mplt\u001b[0m\u001b[0;34m.\u001b[0m\u001b[0mimshow\u001b[0m\u001b[0;34m(\u001b[0m\u001b[0mmean_observation\u001b[0m\u001b[0;34m[\u001b[0m\u001b[0;34m:\u001b[0m\u001b[0;34m:\u001b[0m\u001b[0;34m-\u001b[0m\u001b[0;36m1\u001b[0m\u001b[0;34m,\u001b[0m\u001b[0;34m:\u001b[0m\u001b[0;34m]\u001b[0m\u001b[0;34m)\u001b[0m\u001b[0;34m\u001b[0m\u001b[0m\n\u001b[1;32m      4\u001b[0m \u001b[0mplt\u001b[0m\u001b[0;34m.\u001b[0m\u001b[0mshow\u001b[0m\u001b[0;34m(\u001b[0m\u001b[0;34m)\u001b[0m\u001b[0;34m\u001b[0m\u001b[0m\n",
      "\u001b[0;32mh5py/_objects.pyx\u001b[0m in \u001b[0;36mh5py._objects.with_phil.wrapper\u001b[0;34m()\u001b[0m\n",
      "\u001b[0;32mh5py/_objects.pyx\u001b[0m in \u001b[0;36mh5py._objects.with_phil.wrapper\u001b[0;34m()\u001b[0m\n",
      "\u001b[0;32m/usr/local/lib/python2.7/dist-packages/h5py/_hl/group.pyc\u001b[0m in \u001b[0;36m__getitem__\u001b[0;34m(self, name)\u001b[0m\n\u001b[1;32m    165\u001b[0m                 \u001b[0;32mraise\u001b[0m \u001b[0mValueError\u001b[0m\u001b[0;34m(\u001b[0m\u001b[0;34m\"Invalid HDF5 object reference\"\u001b[0m\u001b[0;34m)\u001b[0m\u001b[0;34m\u001b[0m\u001b[0m\n\u001b[1;32m    166\u001b[0m         \u001b[0;32melse\u001b[0m\u001b[0;34m:\u001b[0m\u001b[0;34m\u001b[0m\u001b[0m\n\u001b[0;32m--> 167\u001b[0;31m             \u001b[0moid\u001b[0m \u001b[0;34m=\u001b[0m \u001b[0mh5o\u001b[0m\u001b[0;34m.\u001b[0m\u001b[0mopen\u001b[0m\u001b[0;34m(\u001b[0m\u001b[0mself\u001b[0m\u001b[0;34m.\u001b[0m\u001b[0mid\u001b[0m\u001b[0;34m,\u001b[0m \u001b[0mself\u001b[0m\u001b[0;34m.\u001b[0m\u001b[0m_e\u001b[0m\u001b[0;34m(\u001b[0m\u001b[0mname\u001b[0m\u001b[0;34m)\u001b[0m\u001b[0;34m,\u001b[0m \u001b[0mlapl\u001b[0m\u001b[0;34m=\u001b[0m\u001b[0mself\u001b[0m\u001b[0;34m.\u001b[0m\u001b[0m_lapl\u001b[0m\u001b[0;34m)\u001b[0m\u001b[0;34m\u001b[0m\u001b[0m\n\u001b[0m\u001b[1;32m    168\u001b[0m \u001b[0;34m\u001b[0m\u001b[0m\n\u001b[1;32m    169\u001b[0m         \u001b[0motype\u001b[0m \u001b[0;34m=\u001b[0m \u001b[0mh5i\u001b[0m\u001b[0;34m.\u001b[0m\u001b[0mget_type\u001b[0m\u001b[0;34m(\u001b[0m\u001b[0moid\u001b[0m\u001b[0;34m)\u001b[0m\u001b[0;34m\u001b[0m\u001b[0m\n",
      "\u001b[0;32mh5py/_objects.pyx\u001b[0m in \u001b[0;36mh5py._objects.with_phil.wrapper\u001b[0;34m()\u001b[0m\n",
      "\u001b[0;32mh5py/_objects.pyx\u001b[0m in \u001b[0;36mh5py._objects.with_phil.wrapper\u001b[0;34m()\u001b[0m\n",
      "\u001b[0;32mh5py/h5o.pyx\u001b[0m in \u001b[0;36mh5py.h5o.open\u001b[0;34m()\u001b[0m\n",
      "\u001b[0;31mKeyError\u001b[0m: \"Unable to open object (object 'mean_observation' doesn't exist)\""
     ]
    }
   ],
   "source": [
    "# Plot mean observation\n",
    "mean_observation = f[\"mean_observation\"][()]\n",
    "plt.imshow(mean_observation[::-1,:])\n",
    "plt.show()"
   ]
  },
  {
   "cell_type": "code",
   "execution_count": 46,
   "metadata": {
    "collapsed": false
   },
   "outputs": [],
   "source": [
    "want=[0,3,10,14,len(files)-1]"
   ]
  },
  {
   "cell_type": "code",
   "execution_count": 93,
   "metadata": {
    "collapsed": false,
    "deletable": true,
    "editable": true
   },
   "outputs": [],
   "source": [
    "# Iterate through data file\n",
    "# Choose and open one file\n",
    "col=['r','m','c', 'g','b',]\n",
    "k=0\n",
    "endpts=[]\n",
    "fig, ax = plt.subplots(figsize=(16, 9))\n",
    "for i,filename in enumerate(files):\n",
    "    #filename = files[0]\n",
    "    if i not in want:\n",
    "        continue\n",
    "    try:\n",
    "        f.close()\n",
    "    except:\n",
    "        pass\n",
    "    f = h5py.File(filename, \"r\")\n",
    "\n",
    "\n",
    "    o  = []\n",
    "    a  = []\n",
    "    r  = []\n",
    "    x  = []\n",
    "    dx = []\n",
    "    T  = 0\n",
    "    size_batch = 10\n",
    "\n",
    "    episodes = f[\"episodes\"]\n",
    "    for i in episodes:\n",
    "        if T >= size_batch:\n",
    "            break\n",
    "        try:\n",
    "            grp = episodes[i]\n",
    "            actions      = grp[\"actions\"][()]\n",
    "            observations = grp[\"observations\"][()]\n",
    "            rewards      = grp[\"rewards\"][()]\n",
    "            xs  = grp[\"xs\"][()]\n",
    "            dxs = grp[\"dxs\"][()]\n",
    "        except:\n",
    "            continue\n",
    "\n",
    "        # Append data to lists\n",
    "        o.append(observations)\n",
    "        a.append(actions)\n",
    "        r.append(rewards)\n",
    "        x.append(xs[...,:2] - np.array([0, -0.45])[np.newaxis,:])\n",
    "        dx.append(dxs[...,:2])\n",
    "        T += rewards.shape[0]\n",
    "\n",
    "        #print(\"Episode {}: {}\".format(i, T))\n",
    "\n",
    "    # Gather batch\n",
    "    o  = np.concatenate(o, axis=0) # [T x 150 x 200 x 3]\n",
    "    a  = np.concatenate(a, axis=0) # [T x 2]\n",
    "    r  = np.concatenate(r, axis=0) # [T]\n",
    "    x  = np.concatenate(x, axis=0) # [T x 2]\n",
    "    dx = np.concatenate(dx, axis=0) # [T x 2]\n",
    "    ax.plot(x[:,0], x[:,1], color=col[k])\n",
    "    \n",
    "    #append endpts for seixer plots\n",
    "    endpts.append(x[-1,:])\n",
    "    #plt.plot([x[0,0]], [x[0,1]], color=col[k], marker='o')\n",
    "    #plt.plot([x[-1,0]], [x[-1,1]], color=col[k], marker='s')\n",
    "    \n",
    "    k+=1\n",
    "\n",
    "labels=[\"itr: \"+str(itr)   for itr in want ]\n",
    "\n",
    "for i, c in enumerate(col):\n",
    "    x=endpts[i]\n",
    "    ax.plot([x[0]], [x[1]], color=col[i], marker='s', markersize=14)\n",
    "ax.plot([0.], [0.], color='k', marker='o', markersize=14)\n",
    "\n",
    "#goal region\n",
    "ang=np.linspace(0.0, -np.pi/2, 100)\n",
    "arcx=[-.45+np.cos(a)*.5 for a in ang]\n",
    "arcy=[.55+np.sin(a)*.5 for a in ang]\n",
    "#ax.plot(arcx, arcy, color='k')\n",
    "\n",
    "ax.legend(labels, loc='best')\n",
    "ax.axis('equal')\n",
    "ax.axis('off')\n",
    "plt.savefig('dqn_milestone.png')\n",
    "#plt.show()\n",
    "\n",
    "\n",
    "\n"
   ]
  },
  {
   "cell_type": "code",
   "execution_count": 43,
   "metadata": {
    "collapsed": false,
    "deletable": true,
    "editable": true
   },
   "outputs": [],
   "source": [
    "\n",
    "plt.show()"
   ]
  },
  {
   "cell_type": "code",
   "execution_count": 11,
   "metadata": {
    "collapsed": false,
    "deletable": true,
    "editable": true
   },
   "outputs": [
    {
     "data": {
      "text/plain": [
       "(100, 2)"
      ]
     },
     "execution_count": 11,
     "metadata": {},
     "output_type": "execute_result"
    }
   ],
   "source": [
    "x.shape"
   ]
  },
  {
   "cell_type": "code",
   "execution_count": null,
   "metadata": {
    "collapsed": true
   },
   "outputs": [],
   "source": []
  }
 ],
 "metadata": {
  "kernelspec": {
   "display_name": "Python 2",
   "language": "python",
   "name": "python2"
  },
  "language_info": {
   "codemirror_mode": {
    "name": "ipython",
    "version": 2
   },
   "file_extension": ".py",
   "mimetype": "text/x-python",
   "name": "python",
   "nbconvert_exporter": "python",
   "pygments_lexer": "ipython2",
   "version": "2.7.12"
  }
 },
 "nbformat": 4,
 "nbformat_minor": 2
}
